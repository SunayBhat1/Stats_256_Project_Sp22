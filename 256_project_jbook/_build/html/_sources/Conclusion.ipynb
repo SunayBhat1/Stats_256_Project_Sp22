{
 "cells": [
  {
   "cell_type": "markdown",
   "id": "4a2c82cb",
   "metadata": {},
   "source": [
    "## **Conclusion and New Directions**\n",
    "\n",
    "\n",
    "\n",
    "### Summary of Estimators\n",
    "\n",
    "* **AIPW** - It is a weighting based estimator that improves IPTW by fully utilizing information about both the treatment assignment and the outcome. It is a combination of IPTW and a weighted average of the outcome regression estimators.\n",
    "* **TMLE** - It incorporates a targeting step that optimizes the bias-variance tradeoff for the targeted estimator, i.e., ATE. It obtains initial outcome estimates via outcome modeling and propensity scores via treatment modeling, respectively. These initial outcome estimates are then updated to reduce the bias of confounding, which generates the targeted predicted outcome values.\n",
    "* **DML** - It utilizes predictive power of advanced ML algorithms in estimating heterogeneous treatment effects when all potential confounders are observed and are also high-dimensional.\n",
    "\n",
    "\n",
    "### Doubly Robust Methods: Applications\n",
    "\n",
    "* Molecular Epidemiology - Meng et al. (2021) applied efficient estimators like AIPW and TMLE to estimate average treatment effects under various scenarios of mis-specification.\n",
    "* Social Sciences - Knaus (2020) showed the efficiency of DML for the evaluation of programs of the Swiss Active Labour Market Policy.\n",
    "* Medical Sciences - Rose et al. (2020) proposed the use of TMLE for the evaluation of the comparative effectiveness of drug-eluting coronary stents.\n",
    "\n",
    "\n",
    "### Potential Future Works (Tan et al. (2022))\n",
    "\n",
    "* It is recommended to do a variable selection first, followed by using SuperLearner to model PS and outcomes. After that TMLE can be applied for estimating ATE.\n",
    "* The use of ML algorithms like random forest and neural networks can be used to remove treatment predictors for variable selection.\n",
    "* Soft variable selection strategies can be used where the variable selection is conducted without requiring any modeling on the outcome regression, and thus provides robustness against mis-specification.\n",
    "\n"
   ]
  },
  {
   "cell_type": "markdown",
   "id": "10af0e00",
   "metadata": {},
   "source": []
  }
 ],
 "metadata": {
  "kernelspec": {
   "display_name": "Python 3 (ipykernel)",
   "language": "python",
   "name": "python3"
  },
  "language_info": {
   "codemirror_mode": {
    "name": "ipython",
    "version": 3
   },
   "file_extension": ".py",
   "mimetype": "text/x-python",
   "name": "python",
   "nbconvert_exporter": "python",
   "pygments_lexer": "ipython3",
   "version": "3.9.7"
  }
 },
 "nbformat": 4,
 "nbformat_minor": 5
}
