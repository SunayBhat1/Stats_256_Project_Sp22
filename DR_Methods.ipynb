{
 "cells": [
  {
   "cell_type": "markdown",
   "metadata": {},
   "source": [
    "## Doubly Robust Methods\n",
    "### AIPW\n",
    "\n",
    "#### Background\n",
    "\n",
    "Augmented Inverse Propensity Weighting (AIPW) is a modification of standard Inverse Propensity Weighting to achieve double robustness. We first consider basic IPW, which considers a sample weight, or propensity score $\\hat \\pi (X_i)$, in the model.\n",
    "\n",
    "$$\\widehat{ATE}_{IPW} = \\frac{1}{N} \\sum_{i=1}^N \\left[\\frac{D_iY_i}{\\hat \\pi (X_i)} - \\frac{(1-D_i)Y_i}{1-\\hat \\pi (X_i)}\\right]$$\n",
    "\n",
    "The augmenteed IPW, AIPW, as presetned by Glynn and Quinn, 2009 includes the outcome model in such a way that ensures doubly-robust estimation. This equations below reqrites the AIPW formulation such the basic IPW is seen clearly first along with the ourcome model augmentation. \n",
    "\n",
    "$$\\widehat{ATE}_{AIPW} = \\frac{1}{N} \\sum_{i=1}^N \\left(\\left[\\frac{D_iY_i}{\\hat \\pi (X_i)} - \\frac{(1-D_i)Y_i}{1-\\hat \\pi (X_i)}\\right]-\\frac{(X_i - \\hat \\pi (X_i))Y_i }{\\pi (X_i)(1-\\pi (X_i))} \\right) [(1-\\hat \\pi (X_i))\\hat{\\mathbb{E}}(Y_i|D_i=1,X_i) + + \\hat{\\pi} (X_i) \\hat{\\mathbb{E}}(Y_i|D_i=0,X_i)]$$"
   ]
  },
  {
   "cell_type": "code",
   "execution_count": 9,
   "metadata": {},
   "outputs": [],
   "source": [
    "# Hide Cell\n",
    "\n",
    "import numpy as np\n",
    "import pandas as pd\n",
    "pd.set_option(\"display.precision\", 3)\n",
    "import matplotlib.pyplot as plt\n",
    "plt.style.use('seaborn')\n",
    "import seaborn as sns\n",
    "from tqdm import tqdm\n",
    "\n",
    "from sklearn.linear_model import LogisticRegression, LinearRegression"
   ]
  },
  {
   "cell_type": "markdown",
   "metadata": {},
   "source": [
    "#### Dataset\n",
    "\n",
    "We will use a simulated dataset based on The National Study of Learning Mindsets. This was a randomized study conducted in U.S. public high schools, the purpose of which was to evaluate the impact of a nudge-like, optional intervention designed to instill students with a growth mindset. The study includes measured outcomes via an achievement score, a binary treatment of a growth mindset educational intervention, and 11 other potential confounding factors that could be parents of both the treatment and outcome. The first 5 rows of the dataset are shows in the table below. "
   ]
  },
  {
   "cell_type": "code",
   "execution_count": 2,
   "metadata": {},
   "outputs": [
    {
     "data": {
      "text/html": [
       "<div>\n",
       "<style scoped>\n",
       "    .dataframe tbody tr th:only-of-type {\n",
       "        vertical-align: middle;\n",
       "    }\n",
       "\n",
       "    .dataframe tbody tr th {\n",
       "        vertical-align: top;\n",
       "    }\n",
       "\n",
       "    .dataframe thead th {\n",
       "        text-align: right;\n",
       "    }\n",
       "</style>\n",
       "<table border=\"1\" class=\"dataframe\">\n",
       "  <thead>\n",
       "    <tr style=\"text-align: right;\">\n",
       "      <th></th>\n",
       "      <th>schoolid</th>\n",
       "      <th>intervention</th>\n",
       "      <th>achievement_score</th>\n",
       "      <th>success_expect</th>\n",
       "      <th>ethnicity</th>\n",
       "      <th>gender</th>\n",
       "      <th>frst_in_family</th>\n",
       "      <th>school_urbanicity</th>\n",
       "      <th>school_mindset</th>\n",
       "      <th>school_achievement</th>\n",
       "      <th>school_ethnic_minority</th>\n",
       "      <th>school_poverty</th>\n",
       "      <th>school_size</th>\n",
       "    </tr>\n",
       "  </thead>\n",
       "  <tbody>\n",
       "    <tr>\n",
       "      <th>0</th>\n",
       "      <td>76</td>\n",
       "      <td>1</td>\n",
       "      <td>0.277</td>\n",
       "      <td>6</td>\n",
       "      <td>4</td>\n",
       "      <td>2</td>\n",
       "      <td>1</td>\n",
       "      <td>4</td>\n",
       "      <td>0.335</td>\n",
       "      <td>0.649</td>\n",
       "      <td>-1.311</td>\n",
       "      <td>0.224</td>\n",
       "      <td>-0.427</td>\n",
       "    </tr>\n",
       "    <tr>\n",
       "      <th>1</th>\n",
       "      <td>76</td>\n",
       "      <td>1</td>\n",
       "      <td>-0.450</td>\n",
       "      <td>4</td>\n",
       "      <td>12</td>\n",
       "      <td>2</td>\n",
       "      <td>1</td>\n",
       "      <td>4</td>\n",
       "      <td>0.335</td>\n",
       "      <td>0.649</td>\n",
       "      <td>-1.311</td>\n",
       "      <td>0.224</td>\n",
       "      <td>-0.427</td>\n",
       "    </tr>\n",
       "    <tr>\n",
       "      <th>2</th>\n",
       "      <td>76</td>\n",
       "      <td>1</td>\n",
       "      <td>0.770</td>\n",
       "      <td>6</td>\n",
       "      <td>4</td>\n",
       "      <td>2</td>\n",
       "      <td>0</td>\n",
       "      <td>4</td>\n",
       "      <td>0.335</td>\n",
       "      <td>0.649</td>\n",
       "      <td>-1.311</td>\n",
       "      <td>0.224</td>\n",
       "      <td>-0.427</td>\n",
       "    </tr>\n",
       "    <tr>\n",
       "      <th>3</th>\n",
       "      <td>76</td>\n",
       "      <td>1</td>\n",
       "      <td>-0.122</td>\n",
       "      <td>6</td>\n",
       "      <td>4</td>\n",
       "      <td>2</td>\n",
       "      <td>0</td>\n",
       "      <td>4</td>\n",
       "      <td>0.335</td>\n",
       "      <td>0.649</td>\n",
       "      <td>-1.311</td>\n",
       "      <td>0.224</td>\n",
       "      <td>-0.427</td>\n",
       "    </tr>\n",
       "    <tr>\n",
       "      <th>4</th>\n",
       "      <td>76</td>\n",
       "      <td>1</td>\n",
       "      <td>1.526</td>\n",
       "      <td>6</td>\n",
       "      <td>4</td>\n",
       "      <td>1</td>\n",
       "      <td>0</td>\n",
       "      <td>4</td>\n",
       "      <td>0.335</td>\n",
       "      <td>0.649</td>\n",
       "      <td>-1.311</td>\n",
       "      <td>0.224</td>\n",
       "      <td>-0.427</td>\n",
       "    </tr>\n",
       "  </tbody>\n",
       "</table>\n",
       "</div>"
      ],
      "text/plain": [
       "   schoolid  intervention  achievement_score  success_expect  ethnicity  \\\n",
       "0        76             1              0.277               6          4   \n",
       "1        76             1             -0.450               4         12   \n",
       "2        76             1              0.770               6          4   \n",
       "3        76             1             -0.122               6          4   \n",
       "4        76             1              1.526               6          4   \n",
       "\n",
       "   gender  frst_in_family  school_urbanicity  school_mindset  \\\n",
       "0       2               1                  4           0.335   \n",
       "1       2               1                  4           0.335   \n",
       "2       2               0                  4           0.335   \n",
       "3       2               0                  4           0.335   \n",
       "4       1               0                  4           0.335   \n",
       "\n",
       "   school_achievement  school_ethnic_minority  school_poverty  school_size  \n",
       "0               0.649                  -1.311           0.224       -0.427  \n",
       "1               0.649                  -1.311           0.224       -0.427  \n",
       "2               0.649                  -1.311           0.224       -0.427  \n",
       "3               0.649                  -1.311           0.224       -0.427  \n",
       "4               0.649                  -1.311           0.224       -0.427  "
      ]
     },
     "execution_count": 2,
     "metadata": {},
     "output_type": "execute_result"
    }
   ],
   "source": [
    "df_mindset = pd.read_csv('learning_mindset.csv')\n",
    "# print(df_mindset.info())\n",
    "df_mindset.head()\n"
   ]
  },
  {
   "cell_type": "code",
   "execution_count": 3,
   "metadata": {},
   "outputs": [],
   "source": [
    "## Hide cell for book\n",
    "# Convert categorical values to binary indicators (one-hot)\n",
    "categ = [\"ethnicity\", \"gender\", \"school_urbanicity\"]\n",
    "cont = [\"school_mindset\", \"school_achievement\", \"school_ethnic_minority\", \"school_poverty\", \"school_size\"]\n",
    "\n",
    "df_categ = pd.concat([\n",
    "    df_mindset.drop(columns=categ), # dataset without the categorical features\n",
    "    pd.get_dummies(df_mindset[categ], columns=categ, drop_first=False) # categorical features converted to dummies\n",
    "], axis=1)\n",
    "\n",
    "# df_categ.head()\n",
    "\n",
    "T = 'intervention'\n",
    "Y = 'achievement_score'\n",
    "X = df_categ.columns.drop([T, Y])"
   ]
  },
  {
   "cell_type": "markdown",
   "metadata": {},
   "source": [
    "#### Understanding the data and potential bias\n",
    "\n",
    "We begin by visualizing the achievement scores of treated and untreated cohorts with no control or consideration for the other variables. It is clear form the plot below there is an impact of the treatment as the average of the treated group's achievement scores is clearly higher. But we can intuit a positive bias in this measurement. We should note again the intervention was an option to take a growth mindset course. So although the option was offered in a random fashion, *it is highly likely students who opt-in to the treatment are likely to have the features to provide higher achievement scores regardless*. Thus, we might hypothesize controlling for this bias would decrease the ATE from the *naive ATE* (meaning no adjustment or simple difference of means of the treated and untreated groups)."
   ]
  },
  {
   "cell_type": "code",
   "execution_count": 7,
   "metadata": {},
   "outputs": [
    {
     "data": {
      "image/png": "[encoded data removed]",
      "text/plain": [
       "<Figure size 432x288 with 1 Axes>"
      ]
     },
     "metadata": {
      "needs_background": "light"
     },
     "output_type": "display_data"
    }
   ],
   "source": [
    "sns.histplot(df_mindset['achievement_score'][df_categ['intervention'] == 0], kde=True, stat=\"density\", linewidth=0)\n",
    "sns.histplot(df_mindset['achievement_score'][df_categ['intervention'] == 1], kde=True, stat=\"density\", linewidth=0,color='g')\n",
    "plt.title(\"Achievement Scores by Treatment\", fontsize=20, fontweight = 'bold')\n",
    "plt.xlabel('Achievement Score', fontsize=14, fontweight = 'bold', labelpad=5)\n",
    "plt.legend(['Untreated', 'Treated']);\n"
   ]
  },
  {
   "cell_type": "markdown",
   "metadata": {},
   "source": [
    "#### Method Implementations\n",
    "\n",
    "The following code block implements the naive ATE, the standard IPW, and finally the AIPW methods as python functions. Note that propensity score, or the exposure model, is constructed as a *Logistic Regression problem*, and the outcome model is generated as a *Linear Regression problem*.\n",
    "\n",
    "We do this to allow us to readily run many iterations of each method. We will use a bootstrap subsample method, where we will sample 1% of the original data (~100 data points), 100 times. This will allow us to generate a distribution of ATEs with an empirical standard deviation. Thus we can report our results comparing each of the three methods using various exposure and outcome models with 95% confidence intervals as well."
   ]
  },
  {
   "cell_type": "code",
   "execution_count": 7,
   "metadata": {},
   "outputs": [],
   "source": [
    "#### Define Estimation methods ####\n",
    "\n",
    "### Linear Regression T on Y\n",
    "def naive_ATE(df, T, Y):\n",
    "    return df[Y][df_categ[T] == 1].mean() - df_categ[Y][df_categ[T] == 0].mean()\n",
    "\n",
    "### IPW\n",
    "def IPW(df, X, T, Y,true_ps = True):\n",
    "\n",
    "    if true_ps:\n",
    "        p_scores = LogisticRegression(C=1e6, max_iter=1000).fit(df[X], df[T]).predict_proba(df[X])[:, 1]\n",
    "    else:\n",
    "        p_scores = np.random.uniform(0.1, 0.9, df.shape[0])\n",
    "\n",
    "    df_ps = df.assign(propensity_score=p_scores)\n",
    "\n",
    "    weight = ((df_ps[\"intervention\"]-df_ps[\"propensity_score\"]) / (df_ps[\"propensity_score\"]*(1-df_ps[\"propensity_score\"])))\n",
    "\n",
    "    weight_t = 1/df_ps.query(\"intervention==1\")[\"propensity_score\"]\n",
    "    weight_nt = 1/(1-df_ps.query(\"intervention==0\")[\"propensity_score\"])\n",
    "\n",
    "    y1 = sum(df_ps.query(\"intervention==1\")[\"achievement_score\"]*weight) / len(df_ps)\n",
    "    y0 = sum(df_ps.query(\"intervention==0\")[\"achievement_score\"]*weight_nt) / len(df_ps)\n",
    "\n",
    "    return np.mean(weight * df_ps[\"achievement_score\"]), p_scores, df_ps\n",
    "\n",
    "### AIPW\n",
    "def AIPW(df, X, T, Y,true_ps = True,true_mus = True):\n",
    "    if true_ps:\n",
    "        p_scores = LogisticRegression(C=1e6,max_iter=1000).fit(df[X], df[T]).predict_proba(df[X])[:, 1]\n",
    "    else:\n",
    "        p_scores = np.random.uniform(0.1, 0.9, df.shape[0])\n",
    "\n",
    "    if true_mus:\n",
    "        mu0 = LinearRegression().fit(df.query(f\"{T}==0\")[X], df.query(f\"{T}==0\")[Y]).predict(df[X])\n",
    "        mu1 = LinearRegression().fit(df.query(f\"{T}==1\")[X], df.query(f\"{T}==1\")[Y]).predict(df[X])\n",
    "    else:\n",
    "        mu0 = np.random.uniform(0, 1, df.shape[0])\n",
    "        mu1 = np.random.uniform(0, 1, df.shape[0])\n",
    "\n",
    "    return (\n",
    "        np.mean(df[T]*(df[Y] - mu1)/p_scores + mu1) -\n",
    "        np.mean((1-df[T])*(df[Y] - mu0)/(1-p_scores) + mu0)\n",
    "    ), p_scores, mu0, mu1"
   ]
  },
  {
   "cell_type": "markdown",
   "metadata": {},
   "source": [
    "#### Experiments and Results\n",
    "\n",
    "The following code block shows our bootstrap sampling method and results display. In this initial experiment, we correctly specify both the exposure and outcome models. The results are displayed in the plot and table below."
   ]
  },
  {
   "cell_type": "code",
   "execution_count": 11,
   "metadata": {},
   "outputs": [
    {
     "name": "stderr",
     "output_type": "stream",
     "text": [
      "100%|██████████| 100/100 [01:18<00:00,  1.27it/s]\n"
     ]
    },
    {
     "data": {
      "text/html": [
       "<div>\n",
       "<style scoped>\n",
       "    .dataframe tbody tr th:only-of-type {\n",
       "        vertical-align: middle;\n",
       "    }\n",
       "\n",
       "    .dataframe tbody tr th {\n",
       "        vertical-align: top;\n",
       "    }\n",
       "\n",
       "    .dataframe thead th {\n",
       "        text-align: right;\n",
       "    }\n",
       "</style>\n",
       "<table border=\"1\" class=\"dataframe\">\n",
       "  <thead>\n",
       "    <tr style=\"text-align: right;\">\n",
       "      <th></th>\n",
       "      <th>Mean ATE</th>\n",
       "      <th>Std Dev</th>\n",
       "      <th>[.025</th>\n",
       "      <th>.975]</th>\n",
       "    </tr>\n",
       "  </thead>\n",
       "  <tbody>\n",
       "    <tr>\n",
       "      <th>AIPW</th>\n",
       "      <td>0.390</td>\n",
       "      <td>0.017</td>\n",
       "      <td>0.358</td>\n",
       "      <td>0.427</td>\n",
       "    </tr>\n",
       "    <tr>\n",
       "      <th>IPW</th>\n",
       "      <td>0.390</td>\n",
       "      <td>0.017</td>\n",
       "      <td>0.359</td>\n",
       "      <td>0.426</td>\n",
       "    </tr>\n",
       "    <tr>\n",
       "      <th>Naive</th>\n",
       "      <td>0.473</td>\n",
       "      <td>0.016</td>\n",
       "      <td>0.446</td>\n",
       "      <td>0.503</td>\n",
       "    </tr>\n",
       "  </tbody>\n",
       "</table>\n",
       "</div>"
      ],
      "text/plain": [
       "       Mean ATE  Std Dev  [.025  .975]\n",
       "AIPW      0.390    0.017  0.358  0.427\n",
       "IPW       0.390    0.017  0.359  0.426\n",
       "Naive     0.473    0.016  0.446  0.503"
      ]
     },
     "execution_count": 11,
     "metadata": {},
     "output_type": "execute_result"
    },
    {
     "data": {
      "image/png": "[encoded data removed]",
      "text/plain": [
       "<Figure size 432x288 with 1 Axes>"
      ]
     },
     "metadata": {
      "needs_background": "light"
     },
     "output_type": "display_data"
    }
   ],
   "source": [
    "bootstrap_sample = 100\n",
    "AIPW_ates = []\n",
    "IPW_ates = []\n",
    "naives_ates = []\n",
    "for iSample in range(bootstrap_sample):\n",
    "    df_bootstrap = df_categ.sample(frac=1,replace=True)\n",
    "    ate, ps, mu0, mu1 = AIPW(df_bootstrap, X, T, Y)\n",
    "    AIPW_ates.append(ate)\n",
    "    ate, ps,_ = IPW(df_bootstrap, X, T, Y)\n",
    "    IPW_ates.append(ate)\n",
    "    naives_ates.append(naive_ATE(df_bootstrap, T, Y))\n",
    "\n",
    "sns.histplot(AIPW_ates,kde=True, stat=\"density\", linewidth=0,color='g')\n",
    "sns.histplot(IPW_ates, kde=True, stat=\"density\", linewidth=0,color='b')\n",
    "sns.histplot(naives_ates,kde=True, stat=\"density\", linewidth=0, color='r')\n",
    "# plt.vlines(np.percentile(AIPW_ates, 2.5), 0, 20, linestyles=\"dotted\")\n",
    "# plt.vlines(np.percentile(AIPW_ates, 97.5), 0, 20, linestyles=\"dotted\", label=\"95% CI\")\n",
    "plt.title(\"ATE Bootstrap Distribution\", fontsize=20, fontweight = 'bold')\n",
    "plt.xlabel('ATE', fontsize=14, fontweight = 'bold', labelpad=5)\n",
    "plt.legend(['AIPW', 'IPW', 'Naive'])\n",
    "\n",
    "Results = {\"AIPW\":{\"Mean ATE\":np.mean(AIPW_ates), \"Std Dev\":np.std(AIPW_ates), \"[.025\":np.percentile(AIPW_ates, 2.5), \".975]\":np.percentile(AIPW_ates, 97.5)},\n",
    "\"IPW\":{\"Mean ATE\":np.mean(IPW_ates), \"Std Dev\":np.std(IPW_ates), \"[.025\":np.percentile(IPW_ates, 2.5), \".975]\":np.percentile(IPW_ates, 97.5)},\n",
    "\"Naive\":{\"Mean ATE\":np.mean(naives_ates), \"Std Dev\":np.std(naives_ates), \"[.025\":np.percentile(naives_ates, 2.5), \".975]\":np.percentile(naives_ates, 97.5)}}\n",
    "\n",
    "df_results = pd.DataFrame(Results)\n",
    "df_results.T\n"
   ]
  },
  {
   "cell_type": "markdown",
   "metadata": {},
   "source": [
    "From the results it is clear both IPW and AIPW account for a positive bias we hypothesized. They estimate the ATE at ~$0.39$, up from the naive ATE estimate of ~$0.47$. We also note the IPW and AIPW methods agree with very close estimates and with very similar 95% confidence intervals. This is unsurprising considering the exposure model is correctly specified using logistic regression for both methods.\n",
    "\n",
    "Now that we have propensity scores, we can also perform a quick positivity check visualizing the distribution of our propensity scores to ensure we meet the positivity/overlap assumption which the plot below demonstrates."
   ]
  },
  {
   "cell_type": "code",
   "execution_count": 12,
   "metadata": {},
   "outputs": [
    {
     "data": {
      "image/png": "[encoded data removed]",
      "text/plain": [
       "<Figure size 432x288 with 1 Axes>"
      ]
     },
     "metadata": {
      "needs_background": "light"
     },
     "output_type": "display_data"
    }
   ],
   "source": [
    "# Hide Cell\n",
    "sns.histplot(ps[df_categ['intervention']==0], kde=True, stat=\"density\", linewidth=0,color='b')\n",
    "sns.histplot(ps[df_categ['intervention']==1], kde=True, stat=\"density\", linewidth=0,color='g')\n",
    "plt.title(\"Positivity Check\\nPropensity Score Dists\", fontsize=20, fontweight = 'bold')\n",
    "plt.xlabel('Propesnity Scores', fontsize=14, fontweight = 'bold', labelpad=5)\n",
    "plt.legend(['Untreated', 'Treated']);"
   ]
  },
  {
   "cell_type": "markdown",
   "metadata": {},
   "source": [
    "In the second experiment, we specify a bad exposure model. Instead of using logistic regression, we simply sample a uniform random distribution: $$ \\hat \\pi (X_i) \\sim U(0.1,0.9) $$\n",
    "As we can see from the results below, the AIPE method is effectively stable, estimating a slightly lower ATE of about ~$0.38$. The standard deviation also increases slightly. On the other hand, the IPW method does far worse than the naive method, which again makes sense as we are feeding it random noise for the propensity scores. This is the first example of a doubly robust method showing how, since the outcome model is correctly specified, the estimation is still robust even to random noise for the exposure model.\n"
   ]
  },
  {
   "cell_type": "code",
   "execution_count": 13,
   "metadata": {},
   "outputs": [
    {
     "name": "stderr",
     "output_type": "stream",
     "text": [
      "100%|██████████| 100/100 [00:07<00:00, 13.43it/s]\n"
     ]
    },
    {
     "data": {
      "text/html": [
       "<div>\n",
       "<style scoped>\n",
       "    .dataframe tbody tr th:only-of-type {\n",
       "        vertical-align: middle;\n",
       "    }\n",
       "\n",
       "    .dataframe tbody tr th {\n",
       "        vertical-align: top;\n",
       "    }\n",
       "\n",
       "    .dataframe thead th {\n",
       "        text-align: right;\n",
       "    }\n",
       "</style>\n",
       "<table border=\"1\" class=\"dataframe\">\n",
       "  <thead>\n",
       "    <tr style=\"text-align: right;\">\n",
       "      <th></th>\n",
       "      <th>Mean ATE</th>\n",
       "      <th>Std Dev</th>\n",
       "      <th>[.025</th>\n",
       "      <th>.975]</th>\n",
       "    </tr>\n",
       "  </thead>\n",
       "  <tbody>\n",
       "    <tr>\n",
       "      <th>AIPW</th>\n",
       "      <td>0.386</td>\n",
       "      <td>0.025</td>\n",
       "      <td>0.342</td>\n",
       "      <td>0.427</td>\n",
       "    </tr>\n",
       "    <tr>\n",
       "      <th>IPW</th>\n",
       "      <td>0.566</td>\n",
       "      <td>0.036</td>\n",
       "      <td>0.506</td>\n",
       "      <td>0.637</td>\n",
       "    </tr>\n",
       "    <tr>\n",
       "      <th>Naive</th>\n",
       "      <td>0.472</td>\n",
       "      <td>0.018</td>\n",
       "      <td>0.439</td>\n",
       "      <td>0.507</td>\n",
       "    </tr>\n",
       "  </tbody>\n",
       "</table>\n",
       "</div>"
      ],
      "text/plain": [
       "       Mean ATE  Std Dev  [.025  .975]\n",
       "AIPW      0.386    0.025  0.342  0.427\n",
       "IPW       0.566    0.036  0.506  0.637\n",
       "Naive     0.472    0.018  0.439  0.507"
      ]
     },
     "execution_count": 13,
     "metadata": {},
     "output_type": "execute_result"
    },
    {
     "data": {
      "image/png": "[encoded data removed]",
      "text/plain": [
       "<Figure size 432x288 with 1 Axes>"
      ]
     },
     "metadata": {
      "needs_background": "light"
     },
     "output_type": "display_data"
    }
   ],
   "source": [
    "# Hide cell\n",
    "bootstrap_sample = 100\n",
    "AIPW_ates = []\n",
    "IPW_ates = []\n",
    "naives_ates = []\n",
    "for iSample in range(bootstrap_sample):\n",
    "    df_bootstrap = df_categ.sample(frac=1,replace=True)\n",
    "    ate, ps, mu0, mu1 = AIPW(df_bootstrap, X, T, Y,true_ps=False)\n",
    "    AIPW_ates.append(ate)\n",
    "    ate, ps,_ = IPW(df_bootstrap, X, T, Y,true_ps=False)\n",
    "    IPW_ates.append(ate)\n",
    "    naives_ates.append(naive_ATE(df_bootstrap, T, Y))\n",
    "\n",
    "sns.histplot(AIPW_ates, kde=True, stat=\"density\", linewidth=0,color='g')\n",
    "sns.histplot(IPW_ates, kde=True, stat=\"density\", linewidth=0,color='b')\n",
    "sns.histplot(naives_ates, kde=True, stat=\"density\", linewidth=0,color='r')\n",
    "# plt.vlines(np.percentile(AIPW_ates, 2.5), 0, 20, linestyles=\"dotted\")\n",
    "# plt.vlines(np.percentile(AIPW_ates, 97.5), 0, 20, linestyles=\"dotted\", label=\"95% CI\")\n",
    "plt.title(\"ATE Bootstrap Distribution\\nRandom Exposure Model\", fontsize=20, fontweight = 'bold')\n",
    "plt.xlabel('ATE', fontsize=14, fontweight = 'bold', labelpad=5)\n",
    "plt.legend(['AIPW', 'IPW', 'Naive'])\n",
    "\n",
    "Results = {\"AIPW\":{\"Mean ATE\":np.mean(AIPW_ates), \"Std Dev\":np.std(AIPW_ates), \"[.025\":np.percentile(AIPW_ates, 2.5), \".975]\":np.percentile(AIPW_ates, 97.5)},\n",
    "\"IPW\":{\"Mean ATE\":np.mean(IPW_ates), \"Std Dev\":np.std(IPW_ates), \"[.025\":np.percentile(IPW_ates, 2.5), \".975]\":np.percentile(IPW_ates, 97.5)},\n",
    "\"Naive\":{\"Mean ATE\":np.mean(naives_ates), \"Std Dev\":np.std(naives_ates), \"[.025\":np.percentile(naives_ates, 2.5), \".975]\":np.percentile(naives_ates, 97.5)}}\n",
    "\n",
    "df_results = pd.DataFrame(Results)\n",
    "df_results.T"
   ]
  },
  {
   "cell_type": "markdown",
   "metadata": {},
   "source": [
    "In the third experiment, we now investigate the impact of a bad outcome model. We again sample from a uniform distribution to obtain the incorrect outcome data: $$\\mu_d(X_i) \\sim U(0,1) $$\n",
    " \n",
    "Here once again see the AIPW and IPW methods both agree and estimate ~$0.39$. AIPW again shows the doubly robust property against the completely random outcome model, while IPW is unimpacted since the exposure model is correct. Both hence perform similarly to the original experiment."
   ]
  },
  {
   "cell_type": "code",
   "execution_count": 14,
   "metadata": {},
   "outputs": [
    {
     "name": "stderr",
     "output_type": "stream",
     "text": [
      "100%|██████████| 100/100 [01:27<00:00,  1.14it/s]\n"
     ]
    },
    {
     "data": {
      "text/html": [
       "<div>\n",
       "<style scoped>\n",
       "    .dataframe tbody tr th:only-of-type {\n",
       "        vertical-align: middle;\n",
       "    }\n",
       "\n",
       "    .dataframe tbody tr th {\n",
       "        vertical-align: top;\n",
       "    }\n",
       "\n",
       "    .dataframe thead th {\n",
       "        text-align: right;\n",
       "    }\n",
       "</style>\n",
       "<table border=\"1\" class=\"dataframe\">\n",
       "  <thead>\n",
       "    <tr style=\"text-align: right;\">\n",
       "      <th></th>\n",
       "      <th>Mean ATE</th>\n",
       "      <th>Std Dev</th>\n",
       "      <th>[.025</th>\n",
       "      <th>.975]</th>\n",
       "    </tr>\n",
       "  </thead>\n",
       "  <tbody>\n",
       "    <tr>\n",
       "      <th>AIPW</th>\n",
       "      <td>0.390</td>\n",
       "      <td>0.018</td>\n",
       "      <td>0.361</td>\n",
       "      <td>0.426</td>\n",
       "    </tr>\n",
       "    <tr>\n",
       "      <th>IPW</th>\n",
       "      <td>0.391</td>\n",
       "      <td>0.017</td>\n",
       "      <td>0.362</td>\n",
       "      <td>0.424</td>\n",
       "    </tr>\n",
       "    <tr>\n",
       "      <th>Naive</th>\n",
       "      <td>0.474</td>\n",
       "      <td>0.016</td>\n",
       "      <td>0.441</td>\n",
       "      <td>0.502</td>\n",
       "    </tr>\n",
       "  </tbody>\n",
       "</table>\n",
       "</div>"
      ],
      "text/plain": [
       "       Mean ATE  Std Dev  [.025  .975]\n",
       "AIPW      0.390    0.018  0.361  0.426\n",
       "IPW       0.391    0.017  0.362  0.424\n",
       "Naive     0.474    0.016  0.441  0.502"
      ]
     },
     "execution_count": 14,
     "metadata": {},
     "output_type": "execute_result"
    },
    {
     "data": {
      "image/png": "[encoded data removed]",
      "text/plain": [
       "<Figure size 432x288 with 1 Axes>"
      ]
     },
     "metadata": {
      "needs_background": "light"
     },
     "output_type": "display_data"
    }
   ],
   "source": [
    "# Hide cell\n",
    "bootstrap_sample = 100\n",
    "AIPW_ates = []\n",
    "IPW_ates = []\n",
    "naives_ates = []\n",
    "for iSample in tqdm(range(bootstrap_sample)):\n",
    "    df_bootstrap = df_categ.sample(frac=1,replace=True)\n",
    "    ate, ps, mu0, mu1 = AIPW(df_bootstrap, X, T, Y,true_mus=False)\n",
    "    AIPW_ates.append(ate)\n",
    "    ate, ps,_ = IPW(df_bootstrap, X, T, Y)\n",
    "    IPW_ates.append(ate)\n",
    "    naives_ates.append(naive_ATE(df_bootstrap, T, Y))\n",
    "\n",
    "sns.histplot(AIPW_ates, kde=True, stat=\"density\", linewidth=0,color='g')\n",
    "sns.histplot(IPW_ates, kde=True, stat=\"density\", linewidth=0,color='b')\n",
    "sns.histplot(naives_ates, kde=True, stat=\"density\", linewidth=0,color='r')\n",
    "# plt.vlines(np.percentile(AIPW_ates, 2.5), 0, 20, linestyles=\"dotted\")\n",
    "# plt.vlines(np.percentile(AIPW_ates, 97.5), 0, 20, linestyles=\"dotted\", label=\"95% CI\")\n",
    "plt.title(\"ATE Bootstrap Distribution\\nRandom Outcome Model\", fontsize=20, fontweight = 'bold')\n",
    "plt.xlabel('ATE', fontsize=14, fontweight = 'bold', labelpad=5)\n",
    "plt.legend(['AIPW', 'IPW', 'Naive'])\n",
    "\n",
    "Results = {\"AIPW\":{\"Mean ATE\":np.mean(AIPW_ates), \"Std Dev\":np.std(AIPW_ates), \"[.025\":np.percentile(AIPW_ates, 2.5), \".975]\":np.percentile(AIPW_ates, 97.5)},\n",
    "\"IPW\":{\"Mean ATE\":np.mean(IPW_ates), \"Std Dev\":np.std(IPW_ates), \"[.025\":np.percentile(IPW_ates, 2.5), \".975]\":np.percentile(IPW_ates, 97.5)},\n",
    "\"Naive\":{\"Mean ATE\":np.mean(naives_ates), \"Std Dev\":np.std(naives_ates), \"[.025\":np.percentile(naives_ates, 2.5), \".975]\":np.percentile(naives_ates, 97.5)}}\n",
    "\n",
    "df_results = pd.DataFrame(Results)\n",
    "df_results.T"
   ]
  },
  {
   "cell_type": "markdown",
   "metadata": {},
   "source": [
    "In the final experiment, we show the impact of a bad outcome and exposure model: $$\\mu_d(X_i) \\sim U(0,1),  \\hat \\pi (X_i) \\sim U(0.1,0.9) $$\n",
    " \n",
    "In this experiment, we see that AIPW performs very poorly, vastly over-estimating the ATE. In this instance, either naive or IPW would perform better, although the naive without any consideration for random models does best. "
   ]
  },
  {
   "cell_type": "code",
   "execution_count": 15,
   "metadata": {},
   "outputs": [
    {
     "name": "stderr",
     "output_type": "stream",
     "text": [
      "100%|██████████| 100/100 [00:02<00:00, 38.64it/s]\n"
     ]
    },
    {
     "data": {
      "text/html": [
       "<div>\n",
       "<style scoped>\n",
       "    .dataframe tbody tr th:only-of-type {\n",
       "        vertical-align: middle;\n",
       "    }\n",
       "\n",
       "    .dataframe tbody tr th {\n",
       "        vertical-align: top;\n",
       "    }\n",
       "\n",
       "    .dataframe thead th {\n",
       "        text-align: right;\n",
       "    }\n",
       "</style>\n",
       "<table border=\"1\" class=\"dataframe\">\n",
       "  <thead>\n",
       "    <tr style=\"text-align: right;\">\n",
       "      <th></th>\n",
       "      <th>Mean ATE</th>\n",
       "      <th>Std Dev</th>\n",
       "      <th>[.025</th>\n",
       "      <th>.975]</th>\n",
       "    </tr>\n",
       "  </thead>\n",
       "  <tbody>\n",
       "    <tr>\n",
       "      <th>AIPW</th>\n",
       "      <td>1.047</td>\n",
       "      <td>0.034</td>\n",
       "      <td>0.990</td>\n",
       "      <td>1.115</td>\n",
       "    </tr>\n",
       "    <tr>\n",
       "      <th>IPW</th>\n",
       "      <td>0.568</td>\n",
       "      <td>0.033</td>\n",
       "      <td>0.512</td>\n",
       "      <td>0.626</td>\n",
       "    </tr>\n",
       "    <tr>\n",
       "      <th>Naive</th>\n",
       "      <td>0.472</td>\n",
       "      <td>0.016</td>\n",
       "      <td>0.444</td>\n",
       "      <td>0.501</td>\n",
       "    </tr>\n",
       "  </tbody>\n",
       "</table>\n",
       "</div>"
      ],
      "text/plain": [
       "       Mean ATE  Std Dev  [.025  .975]\n",
       "AIPW      1.047    0.034  0.990  1.115\n",
       "IPW       0.568    0.033  0.512  0.626\n",
       "Naive     0.472    0.016  0.444  0.501"
      ]
     },
     "execution_count": 15,
     "metadata": {},
     "output_type": "execute_result"
    },
    {
     "data": {
      "image/png": "[encoded data removed]",
      "text/plain": [
       "<Figure size 432x288 with 1 Axes>"
      ]
     },
     "metadata": {
      "needs_background": "light"
     },
     "output_type": "display_data"
    }
   ],
   "source": [
    "# Hide cell\n",
    "bootstrap_sample = 100\n",
    "AIPW_ates = []\n",
    "IPW_ates = []\n",
    "naives_ates = []\n",
    "for iSample in tqdm(range(bootstrap_sample)):\n",
    "    df_bootstrap = df_categ.sample(frac=1,replace=True)\n",
    "    ate, ps, mu0, mu1 = AIPW(df_bootstrap, X, T, Y,true_mus=False,true_ps=False)\n",
    "    AIPW_ates.append(ate)\n",
    "    ate, ps,_ = IPW(df_bootstrap, X, T, Y,true_ps=False)\n",
    "    IPW_ates.append(ate)\n",
    "    naives_ates.append(naive_ATE(df_bootstrap, T, Y))\n",
    "\n",
    "sns.histplot(AIPW_ates, kde=True, stat=\"density\", linewidth=0,color='g')\n",
    "sns.histplot(IPW_ates, kde=True, stat=\"density\", linewidth=0,color='b')\n",
    "sns.histplot(naives_ates, kde=True, stat=\"density\", linewidth=0,color='r')\n",
    "# plt.vlines(np.percentile(AIPW_ates, 2.5), 0, 20, linestyles=\"dotted\")\n",
    "# plt.vlines(np.percentile(AIPW_ates, 97.5), 0, 20, linestyles=\"dotted\", label=\"95% CI\")\n",
    "plt.title(\"ATE Bootstrap Distribution\\nRandom Outcome and Exposure Model\", fontsize=20, fontweight = 'bold')\n",
    "plt.xlabel('ATE', fontsize=14, fontweight = 'bold', labelpad=5)\n",
    "plt.legend(['AIPW', 'IPW', 'Naive'])\n",
    "\n",
    "Results = {\"AIPW\":{\"Mean ATE\":np.mean(AIPW_ates), \"Std Dev\":np.std(AIPW_ates), \"[.025\":np.percentile(AIPW_ates, 2.5), \".975]\":np.percentile(AIPW_ates, 97.5)},\n",
    "\"IPW\":{\"Mean ATE\":np.mean(IPW_ates), \"Std Dev\":np.std(IPW_ates), \"[.025\":np.percentile(IPW_ates, 2.5), \".975]\":np.percentile(IPW_ates, 97.5)},\n",
    "\"Naive\":{\"Mean ATE\":np.mean(naives_ates), \"Std Dev\":np.std(naives_ates), \"[.025\":np.percentile(naives_ates, 2.5), \".975]\":np.percentile(naives_ates, 97.5)}}\n",
    "\n",
    "df_results = pd.DataFrame(Results)\n",
    "df_results.T"
   ]
  },
  {
   "cell_type": "markdown",
   "metadata": {},
   "source": [
    "#### Concluding Thoughts for AIPE\n",
    "\n",
    "We clearly demonstrate AIPW's doubly robust properties using the simulated National Mindset dataset. But it is important to note, our 'incorrect' models were uniform random which would be about as poor as one could imagine. In reality, misspecified models contain more subtle biases or noise, and thus there is a whole host of literature investigating the sensitivity of doubly robust methods to various types and degrees of misspecification. For instance in the example where both models were incorrect, one could imagine scenarios where model misspecifications cancel out, and actually produce a relatively accurate ATE estimate. It is an area of active research on when doubly robust methods should be used when there might be uncertainty on both models."
   ]
  },
  {
   "cell_type": "markdown",
   "metadata": {},
   "source": [
    "### TMLE\n",
    "\n",
    "#### Background and Setup\n",
    "Targeted Maximum Likelihood Estimation (TMLE) is a semi-parametric method with minimal assumptions on the underlying data distribution demonstrated by Van der Laan & Rubin in 2006. We will briefly walk through the steps of a TMLE estimation algorithm on the same data without diving too deep into the formulation."
   ]
  },
  {
   "cell_type": "code",
   "execution_count": 1,
   "metadata": {},
   "outputs": [],
   "source": [
    "# Hide Cell\n",
    "import numpy as np\n",
    "import pandas as pd\n",
    "pd.set_option(\"display.precision\", 3)\n",
    "import matplotlib.pyplot as plt\n",
    "plt.style.use('seaborn')\n",
    "import seaborn as sns\n",
    "from tqdm import tqdm\n",
    "from scipy.special import logit, expit\n",
    "import statsmodels.api as sm\n",
    "\n",
    "# Super Learner Import\n",
    "from math import sqrt\n",
    "from numpy import hstack\n",
    "from numpy import vstack\n",
    "from numpy import asarray\n",
    "from sklearn.datasets import make_regression\n",
    "from sklearn.model_selection import KFold\n",
    "from sklearn.model_selection import train_test_split\n",
    "from sklearn.metrics import mean_squared_error\n",
    "from sklearn.linear_model import LinearRegression\n",
    "from sklearn.linear_model import ElasticNet\n",
    "from sklearn.neighbors import KNeighborsRegressor\n",
    "from sklearn.tree import DecisionTreeRegressor\n",
    "from sklearn.svm import SVR\n",
    "from sklearn.ensemble import AdaBoostRegressor\n",
    "from sklearn.ensemble import BaggingRegressor\n",
    "from sklearn.ensemble import RandomForestRegressor\n",
    "from sklearn.ensemble import ExtraTreesRegressor"
   ]
  },
  {
   "cell_type": "markdown",
   "metadata": {},
   "source": [
    "The TMLE algorithm begins by first estimating a model by training and predicting a super learning ensemble of algorithms. In the hidden code block below, we do so using 9 models from pre-built libraries. We report the root mean squared errors for all algorithms, demonstrating the super learner ensemble performs best. "
   ]
  },
  {
   "cell_type": "code",
   "execution_count": 4,
   "metadata": {},
   "outputs": [
    {
     "name": "stdout",
     "output_type": "stream",
     "text": [
      "Train (5195, 31) (5195,) Test (5196, 31) (5196,)\n",
      "Meta  (5195, 9) (5195,)\n",
      "LinearRegression: RMSE 0.832\n",
      "ElasticNet: RMSE 0.986\n",
      "SVR: RMSE 0.847\n",
      "DecisionTreeRegressor: RMSE 1.020\n",
      "KNeighborsRegressor: RMSE 0.885\n",
      "AdaBoostRegressor: RMSE 0.825\n",
      "BaggingRegressor: RMSE 0.900\n",
      "RandomForestRegressor: RMSE 0.900\n",
      "ExtraTreesRegressor: RMSE 0.948\n",
      "Super Learner: RMSE 0.810\n"
     ]
    }
   ],
   "source": [
    "# Hide Cell\n",
    "# create a list of base-models\n",
    "def get_models():\n",
    "\tmodels = list()\n",
    "\tmodels.append(LinearRegression())\n",
    "\tmodels.append(ElasticNet())\n",
    "\tmodels.append(SVR(gamma='scale'))\n",
    "\tmodels.append(DecisionTreeRegressor())\n",
    "\tmodels.append(KNeighborsRegressor())\n",
    "\tmodels.append(AdaBoostRegressor())\n",
    "\tmodels.append(BaggingRegressor(n_estimators=10))\n",
    "\tmodels.append(RandomForestRegressor(n_estimators=10))\n",
    "\tmodels.append(ExtraTreesRegressor(n_estimators=10))\n",
    "\treturn models\n",
    " \n",
    "# collect out of fold predictions form k-fold cross validation\n",
    "def get_out_of_fold_predictions(X, y, models):\n",
    "\tmeta_X, meta_y = list(), list()\n",
    "\t# define split of data\n",
    "\tkfold = KFold(n_splits=10, shuffle=True)\n",
    "\t# enumerate splits\n",
    "\tfor train_ix, test_ix in kfold.split(X):\n",
    "\t\tfold_yhats = list()\n",
    "\t\t# get data\n",
    "\t\ttrain_X, test_X = X[train_ix], X[test_ix]\n",
    "\t\ttrain_y, test_y = y[train_ix], y[test_ix]\n",
    "\t\tmeta_y.extend(test_y)\n",
    "\t\t# fit and make predictions with each sub-model\n",
    "\t\tfor model in models:\n",
    "\t\t\tmodel.fit(train_X, train_y)\n",
    "\t\t\tyhat = model.predict(test_X)\n",
    "\t\t\t# store columns\n",
    "\t\t\tfold_yhats.append(yhat.reshape(len(yhat),1))\n",
    "\t\t# store fold yhats as columns\n",
    "\t\tmeta_X.append(hstack(fold_yhats))\n",
    "\treturn vstack(meta_X), asarray(meta_y)\n",
    " \n",
    "# fit all base models on the training dataset\n",
    "def fit_base_models(X, y, models):\n",
    "\tfor model in models:\n",
    "\t\tmodel.fit(X, y)\n",
    " \n",
    "# fit a meta model\n",
    "def fit_meta_model(X, y):\n",
    "\tmodel = LinearRegression()\n",
    "\tmodel.fit(X, y)\n",
    "\treturn model\n",
    " \n",
    "# evaluate a list of models on a dataset\n",
    "def evaluate_models(X, y, models):\n",
    "\tfor model in models:\n",
    "\t\tyhat = model.predict(X)\n",
    "\t\tmse = mean_squared_error(y, yhat)\n",
    "\t\tprint('%s: RMSE %.3f' % (model.__class__.__name__, sqrt(mse)))\n",
    " \n",
    "# make predictions with stacked model\n",
    "def super_learner_predictions(X, models, meta_model):\n",
    "\tmeta_X = list()\n",
    "\tfor model in models:\n",
    "\t\tyhat = model.predict(X)\n",
    "\t\tmeta_X.append(yhat.reshape(len(yhat),1))\n",
    "\tmeta_X = hstack(meta_X)\n",
    "\t# predict\n",
    "\treturn meta_model.predict(meta_X)\n",
    " \n",
    "# create the inputs and outputs\n",
    "X = df_categ[df_categ.columns.drop([Y])].to_numpy()\n",
    "y = df_categ[Y].to_numpy()\n",
    "# split\n",
    "X, X_val, y, y_val = train_test_split(X, y, test_size=0.50)\n",
    "print('Train', X.shape, y.shape, 'Test', X_val.shape, y_val.shape)\n",
    "# get models\n",
    "models = get_models()\n",
    "# get out of fold predictions\n",
    "meta_X, meta_y = get_out_of_fold_predictions(X, y, models)\n",
    "print('Meta ', meta_X.shape, meta_y.shape)\n",
    "# fit base models\n",
    "fit_base_models(X, y, models)\n",
    "# fit the meta model\n",
    "meta_model = fit_meta_model(meta_X, meta_y)\n",
    "# evaluate base models\n",
    "evaluate_models(X_val, y_val, models)\n",
    "# evaluate meta model\n",
    "yhat = super_learner_predictions(X_val, models, meta_model)\n",
    "print('Super Learner: RMSE %.3f' % (sqrt(mean_squared_error(y_val, yhat))))"
   ]
  },
  {
   "cell_type": "markdown",
   "metadata": {},
   "source": [
    "In the second step we use the super learner algorithm to estimate the expected value of the outcome using the treatment and confounders as predictors. Within this, there are three steps:\n",
    "1. predict with the interventions\n",
    "2. predict with every sample receiving no treatment\n",
    "3. predict with every sample receiving treatment.\n",
    " \n",
    "We can take the difference of the last two as an ATE estimate, which is effectively the g-estimation approach. We see below this provides a decent 1st estimate. "
   ]
  },
  {
   "cell_type": "code",
   "execution_count": 5,
   "metadata": {},
   "outputs": [
    {
     "data": {
      "text/plain": [
       "0.40127574734587146"
      ]
     },
     "execution_count": 5,
     "metadata": {},
     "output_type": "execute_result"
    }
   ],
   "source": [
    "df_predict = df_categ.copy()\n",
    "X = df_predict[df_predict.columns.drop([Y])].to_numpy()\n",
    "Q_a = super_learner_predictions(X, models, meta_model)\n",
    "df_predict['intervention'] = 0\n",
    "X = df_predict[df_predict.columns.drop([Y])].to_numpy()\n",
    "Q_0 = super_learner_predictions(X, models, meta_model)\n",
    "df_predict['intervention'] = 1\n",
    "X = df_predict[df_predict.columns.drop([Y])].to_numpy()\n",
    "Q_1 = super_learner_predictions(X, models, meta_model)\n",
    "\n",
    "df_tmle = pd.DataFrame([df_categ[Y].to_numpy(),df_categ[T].to_numpy(), Q_a,Q_0,Q_1]).T\n",
    "df_tmle.columns = ['Y','D','Q_a','Q_0','Q_1']\n",
    "\n",
    "df_tmle['Q_1'].mean() - df_tmle['Q_0'].mean()"
   ]
  },
  {
   "cell_type": "markdown",
   "metadata": {},
   "source": [
    "In the third step we obtain propensity scores (ps) and form a \"clever covariate\" from these values which will be used to refine our model. the inverse ps with indicator is added with the negative inverse of not being treated (1-ps) also multiplied with indicator if not being treated:\n",
    "\n",
    "$$H(D,X) = \\frac{I(D=1)}{\\hat \\pi (X_i)} - \\frac{I(D=0)}{1 - \\hat \\pi (X_i)}"
   ]
  },
  {
   "cell_type": "code",
   "execution_count": 17,
   "metadata": {},
   "outputs": [],
   "source": [
    "T = 'intervention'\n",
    "Y = 'achievement_score'\n",
    "X = df_categ.columns.drop([T, Y])\n",
    "ate, ps,_ = IPW(df_categ, X, T, Y)\n",
    "\n",
    "df_tmle['H_1'] = 1/ps\n",
    "df_tmle['H_0'] = -1/(1-ps)\n",
    "df_tmle['H_a'] = df_tmle['D'] * df_tmle['H_1'] + (1-df_tmle['D']) * df_tmle['H_0']"
   ]
  },
  {
   "cell_type": "markdown",
   "metadata": {},
   "source": [
    "In the fourth and fifth steps, we estimate the fluctuation parameter using the logit function:\n",
    " \n",
    "$$logit(\\mathbb{E}[Y|D,X]) = logit(\\hat{\\mathbb{E}}[Y|D,X]) = \\epsilon H(D,X)$$\n",
    " \n",
    "We then update out initial estimates with the fluctuation parameter adjustment.\n"
   ]
  },
  {
   "cell_type": "code",
   "execution_count": 30,
   "metadata": {},
   "outputs": [],
   "source": [
    "eps_fit = np.polyfit(df_tmle['H_a'], df_tmle['Y'] - df_tmle['Q_a'], 1)[0]\n",
    "df_tmle['Q_0_hat'] = df_tmle['Q_0'] + eps_fit * df_tmle['H_0']\n",
    "df_tmle['Q_1_hat'] = df_tmle['Q_1'] + eps_fit * df_tmle['H_1']\n",
    "df_tmle['Q_a_hat'] = df_tmle['Q_a'] + eps_fit * df_tmle['H_a']"
   ]
  },
  {
   "cell_type": "code",
   "execution_count": 32,
   "metadata": {},
   "outputs": [
    {
     "name": "stdout",
     "output_type": "stream",
     "text": [
      "TMLE TAE estimate: 0.3798\n"
     ]
    }
   ],
   "source": [
    "TMLE_ate = df_tmle['Q_1_hat'].mean() - df_tmle['Q_0_hat'].mean()\n",
    "print('TMLE TAE estimate: {:.4f}'.format(TMLE_ate))"
   ]
  },
  {
   "cell_type": "markdown",
   "metadata": {},
   "source": [
    "We see how the fluctuation adjusted outcomes estimates vastly improves the ATE to be more in line with AIPW. One major benefit of TMLE is a whole set of nice statistical and convergence properties. In this case, we can use something called the influence function to calculate a closed form standard error, unlike the empirical error estimates we gained by bootstrapping in the AIPW case.\n",
    " \n",
    "$$\\hat{IF} = (Y-\\hat{\\mathbb{E}}*[Y|D,X])H(D,X) + \\hat{\\mathbb{E}}*[Y|D=1,X] - \\hat{\\mathbb{E}}*[Y|D=0,X] - ATE_{TMLE}$$\n",
    "$$SE = \\sqrt{var(IF)/N}$$\n",
    " \n",
    "Using the above method, we see we get a SE very similar to our AIPW empirical methods."
   ]
  },
  {
   "cell_type": "markdown",
   "metadata": {},
   "source": []
  },
  {
   "cell_type": "code",
   "execution_count": 34,
   "metadata": {},
   "outputs": [
    {
     "name": "stdout",
     "output_type": "stream",
     "text": [
      "SE calculated from influcence function: 0.0165\n"
     ]
    }
   ],
   "source": [
    "IF = (df_tmle['Y'] - df_tmle['Q_a_hat']) * df_tmle['H_a'] + df_tmle['Q_1_hat'] - df_tmle['Q_0_hat'] - TMLE_ate\n",
    "print('SE calculated from influcence function: {:.4f}'.format(np.sqrt(IF.var()/df_tmle.shape[0])))"
   ]
  },
  {
   "cell_type": "markdown",
   "metadata": {},
   "source": [
    "### References  \n",
    "    \n",
    "    1. Glynn, A. N., & Quinn, K. M. (2010). An introduction to the augmented inverse propensity weighted estimator. Political analysis, 18(1), 36-56.\n",
    "\n",
    "    2. https://matheusfacure.github.io/python-causality-handbook/12-Doubly-Robust-Estimation.html\n",
    "\n",
    "    3. Gruber S, van der Laan MJ. Targeted minimum loss based estimator that outperforms a given estimator. Int J Biostat. 2012 May 18;8(1):Article 11. doi: 10.1515/1557-4679.1332. PMID: 22628356; PMCID: PMC6052865.\n"
   ]
  },
  {
   "cell_type": "markdown",
   "metadata": {},
   "source": []
  }
 ],
 "metadata": {
  "interpreter": {
   "hash": "e1b97f395c729d34f085d8e45c9fd7029ba997e22632cb4ee6e2174cac7541d0"
  },
  "kernelspec": {
   "display_name": "Python 3.6.10 ('py36_ML')",
   "language": "python",
   "name": "python3"
  },
  "language_info": {
   "codemirror_mode": {
    "name": "ipython",
    "version": 3
   },
   "file_extension": ".py",
   "mimetype": "text/x-python",
   "name": "python",
   "nbconvert_exporter": "python",
   "pygments_lexer": "ipython3",
   "version": "3.6.10"
  }
 },
 "nbformat": 4,
 "nbformat_minor": 2
}
